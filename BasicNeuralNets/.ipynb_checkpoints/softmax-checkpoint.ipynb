{
 "cells": [
  {
   "cell_type": "markdown",
   "metadata": {},
   "source": [
    "# Softmax exercise\n",
    "\n",
    "*Complete and hand in this completed worksheet (including its outputs and any supporting code outside of the worksheet) with your assignment submission. For more details see the [assignments page](https://compsci697l.github.io/assignments.html) on the course website.*\n",
    "\n",
    "This exercise is analogous to the SVM exercise. You will:\n",
    "\n",
    "- implement a fully-vectorized **loss function** for the Softmax classifier\n",
    "- implement the fully-vectorized expression for its **analytic gradient**\n",
    "- **check your implementation** with numerical gradient\n",
    "- use a validation set to **tune the learning rate and regularization** strength\n",
    "- **optimize** the loss function with **SGD**\n",
    "- **visualize** the final learned weights\n"
   ]
  },
  {
   "cell_type": "code",
   "execution_count": 1,
   "metadata": {
    "collapsed": false
   },
   "outputs": [],
   "source": [
    "import random\n",
    "import numpy as np\n",
    "from asgn1.data_utils import load_CIFAR10\n",
    "import matplotlib.pyplot as plt\n",
    "%matplotlib inline\n",
    "plt.rcParams['figure.figsize'] = (10.0, 8.0) # set default size of plots\n",
    "plt.rcParams['image.interpolation'] = 'nearest'\n",
    "plt.rcParams['image.cmap'] = 'gray'\n",
    "\n",
    "# for auto-reloading extenrnal modules\n",
    "# see http://stackoverflow.com/questions/1907993/autoreload-of-modules-in-ipython\n",
    "%load_ext autoreload\n",
    "%autoreload 2"
   ]
  },
  {
   "cell_type": "code",
   "execution_count": 2,
   "metadata": {
    "collapsed": false
   },
   "outputs": [
    {
     "name": "stdout",
     "output_type": "stream",
     "text": [
      "Train data shape:  (49000, 3073)\n",
      "Train labels shape:  (49000,)\n",
      "Validation data shape:  (1000, 3073)\n",
      "Validation labels shape:  (1000,)\n",
      "Test data shape:  (1000, 3073)\n",
      "Test labels shape:  (1000,)\n",
      "dev data shape:  (500, 3073)\n",
      "dev labels shape:  (500,)\n"
     ]
    }
   ],
   "source": [
    "def get_CIFAR10_data(num_training=49000, num_validation=1000, num_test=1000, num_dev=500):\n",
    "  \"\"\"\n",
    "  Load the CIFAR-10 dataset from disk and perform preprocessing to prepare\n",
    "  it for the linear classifier. These are the same steps as we used for the\n",
    "  SVM, but condensed to a single function.  \n",
    "  \"\"\"\n",
    "  # Load the raw CIFAR-10 data\n",
    "  cifar10_dir = 'datasets/cifar-10-batches-py'\n",
    "  X_train, y_train, X_test, y_test = load_CIFAR10(cifar10_dir)\n",
    "  \n",
    "  # subsample the data\n",
    "  mask = range(num_training, num_training + num_validation)\n",
    "  X_val = X_train[mask]\n",
    "  y_val = y_train[mask]\n",
    "  mask = range(num_training)\n",
    "  X_train = X_train[mask]\n",
    "  y_train = y_train[mask]\n",
    "  mask = range(num_test)\n",
    "  X_test = X_test[mask]\n",
    "  y_test = y_test[mask]\n",
    "  mask = np.random.choice(num_training, num_dev, replace=False)\n",
    "  X_dev = X_train[mask]\n",
    "  y_dev = y_train[mask]\n",
    "  \n",
    "  # Preprocessing: reshape the image data into rows\n",
    "  X_train = np.reshape(X_train, (X_train.shape[0], -1))\n",
    "  X_val = np.reshape(X_val, (X_val.shape[0], -1))\n",
    "  X_test = np.reshape(X_test, (X_test.shape[0], -1))\n",
    "  X_dev = np.reshape(X_dev, (X_dev.shape[0], -1))\n",
    "  \n",
    "  # Normalize the data: subtract the mean image\n",
    "  mean_image = np.mean(X_train, axis = 0)\n",
    "  X_train -= mean_image\n",
    "  X_val -= mean_image\n",
    "  X_test -= mean_image\n",
    "  X_dev -= mean_image\n",
    "  \n",
    "  # add bias dimension and transform into columns\n",
    "  X_train = np.hstack([X_train, np.ones((X_train.shape[0], 1))])\n",
    "  X_val = np.hstack([X_val, np.ones((X_val.shape[0], 1))])\n",
    "  X_test = np.hstack([X_test, np.ones((X_test.shape[0], 1))])\n",
    "  X_dev = np.hstack([X_dev, np.ones((X_dev.shape[0], 1))])\n",
    "  \n",
    "  return X_train, y_train, X_val, y_val, X_test, y_test, X_dev, y_dev\n",
    "\n",
    "\n",
    "# Invoke the above function to get our data.\n",
    "X_train, y_train, X_val, y_val, X_test, y_test, X_dev, y_dev = get_CIFAR10_data()\n",
    "print 'Train data shape: ', X_train.shape\n",
    "print 'Train labels shape: ', y_train.shape\n",
    "print 'Validation data shape: ', X_val.shape\n",
    "print 'Validation labels shape: ', y_val.shape\n",
    "print 'Test data shape: ', X_test.shape\n",
    "print 'Test labels shape: ', y_test.shape\n",
    "print 'dev data shape: ', X_dev.shape\n",
    "print 'dev labels shape: ', y_dev.shape"
   ]
  },
  {
   "cell_type": "markdown",
   "metadata": {},
   "source": [
    "## Softmax Classifier\n",
    "\n",
    "Your code for this section will all be written inside **asgn1/classifiers/softmax.py**. \n"
   ]
  },
  {
   "cell_type": "code",
   "execution_count": 3,
   "metadata": {
    "collapsed": false
   },
   "outputs": [
    {
     "name": "stdout",
     "output_type": "stream",
     "text": [
      "loss: 2.332078\n",
      "sanity check: 2.302585\n"
     ]
    }
   ],
   "source": [
    "# First implement the naive softmax loss function with nested loops.\n",
    "# Open the file asgn1/classifiers/softmax.py and implement the\n",
    "# softmax_loss_naive function.\n",
    "\n",
    "from asgn1.classifiers.softmax import softmax_loss_naive\n",
    "import time\n",
    "\n",
    "# Generate a random softmax weight matrix and use it to compute the loss.\n",
    "W = np.random.randn(3073, 10) * 0.0001\n",
    "loss, grad = softmax_loss_naive(W, X_dev, y_dev, 0.0)\n",
    "\n",
    "# As a rough sanity check, our loss should be something close to -log(0.1).\n",
    "print 'loss: %f' % loss\n",
    "print 'sanity check: %f' % (-np.log(0.1))"
   ]
  },
  {
   "cell_type": "markdown",
   "metadata": {},
   "source": [
    "## Inline Question 1:\n",
    "Why do we expect our loss to be close to -log(0.1)? Explain briefly.**\n",
    "\n",
    "**Your answer:** *Since our weight is random, we are expecting a baseline accuracy of 10% by chance. Negative log of this is our guess on random loss. *\n"
   ]
  },
  {
   "cell_type": "code",
   "execution_count": 4,
   "metadata": {
    "collapsed": false
   },
   "outputs": [
    {
     "name": "stdout",
     "output_type": "stream",
     "text": [
      "numerical: 1.870129 analytic: 1.870129, relative error: 3.449855e-08\n",
      "numerical: 1.663175 analytic: 1.663175, relative error: 1.059116e-08\n",
      "numerical: 1.302911 analytic: 1.302911, relative error: 4.506175e-08\n",
      "numerical: -2.079277 analytic: -2.079277, relative error: 1.435902e-09\n",
      "numerical: 1.108692 analytic: 1.108692, relative error: 3.045965e-08\n",
      "numerical: 3.186045 analytic: 3.186045, relative error: 3.762440e-09\n",
      "numerical: -4.039590 analytic: -4.039590, relative error: 9.153312e-09\n",
      "numerical: 0.138171 analytic: 0.138171, relative error: 2.059156e-08\n",
      "numerical: 0.813972 analytic: 0.813972, relative error: 8.338977e-08\n",
      "numerical: 1.490646 analytic: 1.490646, relative error: 1.142620e-08\n",
      "numerical: -1.386629 analytic: -1.386629, relative error: 1.639582e-09\n",
      "numerical: 3.749945 analytic: 3.749945, relative error: 2.927449e-08\n",
      "numerical: 4.014507 analytic: 4.014507, relative error: 3.687294e-08\n",
      "numerical: 0.956541 analytic: 0.956541, relative error: 1.943922e-08\n",
      "numerical: -0.462360 analytic: -0.462360, relative error: 1.831177e-08\n",
      "numerical: 2.717280 analytic: 2.717280, relative error: 4.423442e-08\n",
      "numerical: -0.388914 analytic: -0.388914, relative error: 1.266588e-07\n",
      "numerical: 1.287546 analytic: 1.287546, relative error: 2.953893e-08\n",
      "numerical: 0.058000 analytic: 0.058000, relative error: 1.131302e-06\n",
      "numerical: 1.486398 analytic: 1.486398, relative error: 1.293796e-08\n"
     ]
    }
   ],
   "source": [
    "# Complete the implementation of softmax_loss_naive and implement a (naive)\n",
    "# version of the gradient that uses nested loops.\n",
    "loss, grad = softmax_loss_naive(W, X_dev, y_dev, 0.0)\n",
    "\n",
    "# As we did for the SVM, use numeric gradient checking as a debugging tool.\n",
    "# The numeric gradient should be close to the analytic gradient.\n",
    "from asgn1.gradient_check import grad_check_sparse\n",
    "f = lambda w: softmax_loss_naive(w, X_dev, y_dev, 0.0)[0]\n",
    "grad_numerical = grad_check_sparse(f, W, grad, 10)\n",
    "\n",
    "# similar to SVM case, do another gradient check with regularization\n",
    "loss, grad = softmax_loss_naive(W, X_dev, y_dev, 1e2)\n",
    "f = lambda w: softmax_loss_naive(w, X_dev, y_dev, 1e2)[0]\n",
    "grad_numerical = grad_check_sparse(f, W, grad, 10)"
   ]
  },
  {
   "cell_type": "code",
   "execution_count": 5,
   "metadata": {
    "collapsed": false
   },
   "outputs": [
    {
     "name": "stdout",
     "output_type": "stream",
     "text": [
      "naive loss: 2.332078e+00 computed in 0.103552s\n",
      "vectorized loss: 2.332078e+00 computed in 0.007106s\n",
      "Loss difference: 0.000000\n",
      "Gradient difference: 0.000000\n"
     ]
    }
   ],
   "source": [
    "# Now that we have a naive implementation of the softmax loss function and its gradient,\n",
    "# implement a vectorized version in softmax_loss_vectorized.\n",
    "# The two versions should compute the same results, but the vectorized version should be\n",
    "# much faster.\n",
    "tic = time.time()\n",
    "loss_naive, grad_naive = softmax_loss_naive(W, X_dev, y_dev, 0.00001)\n",
    "toc = time.time()\n",
    "print 'naive loss: %e computed in %fs' % (loss_naive, toc - tic)\n",
    "\n",
    "from asgn1.classifiers.softmax import softmax_loss_vectorized\n",
    "tic = time.time()\n",
    "loss_vectorized, grad_vectorized = softmax_loss_vectorized(W, X_dev, y_dev, 0.00001)\n",
    "toc = time.time()\n",
    "print 'vectorized loss: %e computed in %fs' % (loss_vectorized, toc - tic)\n",
    "\n",
    "# As we did for the SVM, we use the Frobenius norm to compare the two versions\n",
    "# of the gradient.\n",
    "grad_difference = np.linalg.norm(grad_naive - grad_vectorized, ord='fro')\n",
    "print 'Loss difference: %f' % np.abs(loss_naive - loss_vectorized)\n",
    "print 'Gradient difference: %f' % grad_difference"
   ]
  },
  {
   "cell_type": "code",
   "execution_count": 6,
   "metadata": {
    "collapsed": false
   },
   "outputs": [
    {
     "name": "stdout",
     "output_type": "stream",
     "text": [
      "lr 1.000000e-09 reg 1.000000e-04 train accuracy: 0.437286 val accuracy: 0.413000\n",
      "lr 1.000000e-09 reg 1.000000e-03 train accuracy: 0.437286 val accuracy: 0.414000\n",
      "lr 1.000000e-09 reg 1.000000e-02 train accuracy: 0.437429 val accuracy: 0.414000\n",
      "lr 1.000000e-09 reg 1.000000e-01 train accuracy: 0.437469 val accuracy: 0.413000\n",
      "lr 1.000000e-09 reg 1.000000e+00 train accuracy: 0.437306 val accuracy: 0.413000\n",
      "lr 1.000000e-09 reg 1.000000e+01 train accuracy: 0.437265 val accuracy: 0.413000\n",
      "lr 1.000000e-09 reg 1.000000e+03 train accuracy: 0.437429 val accuracy: 0.413000\n",
      "lr 1.000000e-08 reg 1.000000e-04 train accuracy: 0.437857 val accuracy: 0.416000\n",
      "lr 1.000000e-08 reg 1.000000e-03 train accuracy: 0.437265 val accuracy: 0.417000\n",
      "lr 1.000000e-08 reg 1.000000e-02 train accuracy: 0.436714 val accuracy: 0.417000\n",
      "lr 1.000000e-08 reg 1.000000e-01 train accuracy: 0.437204 val accuracy: 0.415000\n",
      "lr 1.000000e-08 reg 1.000000e+00 train accuracy: 0.436633 val accuracy: 0.414000\n",
      "lr 1.000000e-08 reg 1.000000e+01 train accuracy: 0.436653 val accuracy: 0.416000\n",
      "lr 1.000000e-08 reg 1.000000e+03 train accuracy: 0.437265 val accuracy: 0.413000\n",
      "lr 1.000000e-07 reg 1.000000e-04 train accuracy: 0.435449 val accuracy: 0.415000\n",
      "lr 1.000000e-07 reg 1.000000e-03 train accuracy: 0.437000 val accuracy: 0.411000\n",
      "lr 1.000000e-07 reg 1.000000e-02 train accuracy: 0.437000 val accuracy: 0.416000\n",
      "lr 1.000000e-07 reg 1.000000e-01 train accuracy: 0.437449 val accuracy: 0.410000\n",
      "lr 1.000000e-07 reg 1.000000e+00 train accuracy: 0.437755 val accuracy: 0.409000\n",
      "lr 1.000000e-07 reg 1.000000e+01 train accuracy: 0.436980 val accuracy: 0.417000\n",
      "lr 1.000000e-07 reg 1.000000e+03 train accuracy: 0.437122 val accuracy: 0.415000\n",
      "lr 1.000000e-06 reg 1.000000e-04 train accuracy: 0.418143 val accuracy: 0.403000\n",
      "lr 1.000000e-06 reg 1.000000e-03 train accuracy: 0.425286 val accuracy: 0.400000\n",
      "lr 1.000000e-06 reg 1.000000e-02 train accuracy: 0.425265 val accuracy: 0.411000\n",
      "lr 1.000000e-06 reg 1.000000e-01 train accuracy: 0.432653 val accuracy: 0.416000\n",
      "lr 1.000000e-06 reg 1.000000e+00 train accuracy: 0.434694 val accuracy: 0.425000\n",
      "lr 1.000000e-06 reg 1.000000e+01 train accuracy: 0.430878 val accuracy: 0.417000\n",
      "lr 1.000000e-06 reg 1.000000e+03 train accuracy: 0.429388 val accuracy: 0.403000\n",
      "lr 1.000000e-05 reg 1.000000e-04 train accuracy: 0.296796 val accuracy: 0.319000\n",
      "lr 1.000000e-05 reg 1.000000e-03 train accuracy: 0.320184 val accuracy: 0.314000\n",
      "lr 1.000000e-05 reg 1.000000e-02 train accuracy: 0.357980 val accuracy: 0.359000\n",
      "lr 1.000000e-05 reg 1.000000e-01 train accuracy: 0.371245 val accuracy: 0.355000\n",
      "lr 1.000000e-05 reg 1.000000e+00 train accuracy: 0.313408 val accuracy: 0.307000\n",
      "lr 1.000000e-05 reg 1.000000e+01 train accuracy: 0.341265 val accuracy: 0.316000\n",
      "lr 1.000000e-05 reg 1.000000e+03 train accuracy: 0.283245 val accuracy: 0.265000\n",
      "best validation accuracy achieved during cross-validation: 0.425000\n"
     ]
    }
   ],
   "source": [
    "# Use the validation set to tune hyperparameters (regularization strength and\n",
    "# learning rate). You should experiment with different ranges for the learning\n",
    "# rates and regularization strengths; if you are careful you should be able to\n",
    "# get a classification accuracy of over 0.35 on the validation set.\n",
    "from asgn1.classifiers import Softmax\n",
    "sm = Softmax()\n",
    "results = {}\n",
    "best_val = -1\n",
    "best_sm = None\n",
    "learning_rates = [1e-5,1e-6,1e-7,1e-8, 1e-9]\n",
    "regularization_strengths = [1e-4,1e-3,1e-2,1e-1,1,1e1,1e3]\n",
    "\n",
    "################################################################################\n",
    "# TODO:                                                                        #\n",
    "# Use the validation set to set the learning rate and regularization strength. #\n",
    "# This should be identical to the validation that you did for the SVM; save    #\n",
    "# the best trained softmax classifer in best_softmax.                          #\n",
    "################################################################################\n",
    "\n",
    "#choose the best hyperparameter\n",
    "for learning_rate in learning_rates:\n",
    "    for regularization_strength in regularization_strengths:\n",
    "        #train svm\n",
    "        loss_hist = sm.train(X_train, y_train, learning_rate=learning_rate, reg=regularization_strength,\n",
    "                      num_iters=500, verbose=False)\n",
    "        #training accuracy\n",
    "        y_train_pred = sm.predict(X_train)\n",
    "        training_accuracy = np.mean(y_train_pred == y_train)\n",
    "        #validation accuracy\n",
    "        y_val_pred = sm.predict(X_val)\n",
    "        validation_accuracy = np.mean(y_val_pred == y_val)\n",
    "        \n",
    "        #store in dict\n",
    "        results[(learning_rate, regularization_strength)] = (training_accuracy, validation_accuracy)\n",
    "        #save best validation\n",
    "        if validation_accuracy > best_val: \n",
    "            best_val = validation_accuracy \n",
    "            best_sm = sm\n",
    "\n",
    "################################################################################\n",
    "#                              END OF YOUR CODE                                #\n",
    "################################################################################\n",
    "\n",
    "# Print out results.\n",
    "for lr, reg in sorted(results):\n",
    "    train_accuracy, val_accuracy = results[(lr, reg)]\n",
    "    print 'lr %e reg %e train accuracy: %f val accuracy: %f' % (\n",
    "                lr, reg, train_accuracy, val_accuracy)\n",
    "    \n",
    "print 'best validation accuracy achieved during cross-validation: %f' % best_val"
   ]
  },
  {
   "cell_type": "code",
   "execution_count": 7,
   "metadata": {
    "collapsed": false
   },
   "outputs": [
    {
     "name": "stdout",
     "output_type": "stream",
     "text": [
      "softmax on raw pixels final test set accuracy: 0.406000\n"
     ]
    }
   ],
   "source": [
    "# evaluate on test set\n",
    "# Evaluate the best softmax on test set\n",
    "y_test_pred = best_sm.predict(X_test)\n",
    "test_accuracy = np.mean(y_test == y_test_pred)\n",
    "print 'softmax on raw pixels final test set accuracy: %f' % (test_accuracy, )"
   ]
  },
  {
   "cell_type": "code",
   "execution_count": 8,
   "metadata": {
    "collapsed": false
   },
   "outputs": [
    {
     "data": {
      "image/png": "[encoded data removed]",
      "text/plain": [
       "<matplotlib.figure.Figure at 0x10a2e0150>"
      ]
     },
     "metadata": {},
     "output_type": "display_data"
    }
   ],
   "source": [
    "# Visualize the learned weights for each class\n",
    "w = best_sm.W[:-1,:] # strip out the bias\n",
    "w = w.reshape(32, 32, 3, 10)\n",
    "\n",
    "w_min, w_max = np.min(w), np.max(w)\n",
    "\n",
    "classes = ['plane', 'car', 'bird', 'cat', 'deer', 'dog', 'frog', 'horse', 'ship', 'truck']\n",
    "for i in xrange(10):\n",
    "  plt.subplot(2, 5, i + 1)\n",
    "  \n",
    "  # Rescale the weights to be between 0 and 255\n",
    "  wimg = 255.0 * (w[:, :, :, i].squeeze() - w_min) / (w_max - w_min)\n",
    "  plt.imshow(wimg.astype('uint8'))\n",
    "  plt.axis('off')\n",
    "  plt.title(classes[i])"
   ]
  }
 ],
 "metadata": {
  "kernelspec": {
   "display_name": "Python 2",
   "language": "python",
   "name": "python2"
  },
  "language_info": {
   "codemirror_mode": {
    "name": "ipython",
    "version": 2
   },
   "file_extension": ".py",
   "mimetype": "text/x-python",
   "name": "python",
   "nbconvert_exporter": "python",
   "pygments_lexer": "ipython2",
   "version": "2.7.11"
  }
 },
 "nbformat": 4,
 "nbformat_minor": 0
}
